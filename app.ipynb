{
 "cells": [
  {
   "cell_type": "code",
   "execution_count": null,
   "metadata": {},
   "outputs": [],
   "source": [
    "from langchain_text_splitters import RecursiveCharacterTextSplitter\n",
    "\n",
    "text_splitter = RecursiveCharacterTextSplitter(\n",
    "    # Set a really small chunk size, just to show.\n",
    "    chunk_size=512,\n",
    "    chunk_overlap=20,\n",
    "    length_function=len,\n",
    "    is_separator_regex=False,\n",
    ")"
   ]
  },
  {
   "cell_type": "code",
   "execution_count": null,
   "metadata": {},
   "outputs": [],
   "source": [
    "from langchain_community.document_loaders import WikipediaLoader\n",
    "\n",
    "docs = WikipediaLoader(query=\"Leonardo Di Caprio\").load_and_split(text_splitter = text_splitter )"
   ]
  },
  {
   "cell_type": "code",
   "execution_count": null,
   "metadata": {},
   "outputs": [],
   "source": [
    "# List to hold the content of each document\n",
    "doc_contents = [doc.page_content for doc in docs]\n",
    "\n",
    "# List to hold the IDs for each document\n",
    "doc_ids = list(range(1, len(docs) + 1))"
   ]
  },
  {
   "cell_type": "code",
   "execution_count": 43,
   "metadata": {},
   "outputs": [
    {
     "data": {
      "text/plain": [
       "\"Leonardo Wilhelm DiCaprio (; Italian: [diˈkaːprjo]; born November 11, 1974) is an American actor and film producer. Known for his work in biographical and period films, he is the recipient of numerous accolades, including an Academy Award, a British Academy Film Award, and three Golden Globe Awards. As of 2019, his films have grossed over $7.2 billion worldwide, and he has been placed eight times in annual rankings of the world's highest-paid actors.\""
      ]
     },
     "execution_count": 43,
     "metadata": {},
     "output_type": "execute_result"
    }
   ],
   "source": [
    "doc_contents[0]"
   ]
  },
  {
   "cell_type": "code",
   "execution_count": null,
   "metadata": {},
   "outputs": [],
   "source": [
    "from qdrant_client import QdrantClient\n",
    "\n",
    "# Initialize the client\n",
    "client = QdrantClient(\":memory:\")\n",
    "\n",
    "client.add(\n",
    "    collection_name=\"leo_collection\",\n",
    "    documents=doc_contents,\n",
    "    ids=doc_ids,\n",
    ")"
   ]
  },
  {
   "cell_type": "code",
   "execution_count": 15,
   "metadata": {},
   "outputs": [],
   "source": [
    "from dspy.retrieve.qdrant_rm import QdrantRM\n",
    "import dspy\n",
    "\n",
    "qdrant_retriever_model = QdrantRM(\"leo_collection\", client, k=10)\n",
    "\n",
    "ollama_model = dspy.OllamaLocal(model=\"llama3\",model_type='text',\n",
    "                                max_tokens=350,\n",
    "                                temperature=0.1,\n",
    "                                top_p=0.8, frequency_penalty=1.17, top_k=40)\n",
    "\n",
    "dspy.settings.configure(lm= ollama_model, rm=qdrant_retriever_model)"
   ]
  },
  {
   "cell_type": "code",
   "execution_count": 41,
   "metadata": {},
   "outputs": [],
   "source": [
    "import dspy\n",
    "def get_top_passages(question):\n",
    "    retrieve = dspy.Retrieve(k=10)\n",
    "    topK_passages = retrieve(question,k=10).passages\n",
    "    print(f\"Top {retrieve.k} passages for question: {question} \\n\", '-' * 30, '\\n')\n",
    "    for idx, passage in enumerate(topK_passages):\n",
    "        print(f'{idx+1}]', passage, '\\n')"
   ]
  },
  {
   "cell_type": "code",
   "execution_count": 42,
   "metadata": {},
   "outputs": [
    {
     "name": "stdout",
     "output_type": "stream",
     "text": [
      "Top 10 passages for question: Where was Leo born? \n",
      " ------------------------------ \n",
      "\n",
      "1] == Early life == \n",
      "\n",
      "2] == Early life and acting background == \n",
      "\n",
      "3] == Biography ==\n",
      "DiCaprio was born to George Leon DiCaprio and Olga Anne Jacobs. His father was the son of Italian immigrants, Salvatore Di Caprio and Rosina Cassella, and his mother was of German descent. \n",
      "\n",
      "4] Leonardo Wilhelm DiCaprio was born on November 11, 1974, in Los Angeles, California. He is the only child of Irmelin Indenbirken, a legal secretary, and George DiCaprio, an underground comix artist and distributor; they met while attending college and moved to Los Angeles after graduating. His mother is German and his father is of Italian and German descent. His maternal grandfather, Wilhelm Indenbirken, was German, and his maternal grandmother, Helene Indenbirken, was a Russian immigrant living in \n",
      "\n",
      "5] DiCaprio's parents named him Leonardo because his pregnant mother first felt him kick while she was looking at a Leonardo da Vinci painting in the Uffizi museum in Florence, Italy. When DiCaprio was one year old, his parents divorced after his father fell in love with another woman and moved out. To raise him together, his parents moved into twin cottages with a shared garden in Echo Park, Los Angeles. DiCaprio's father lived with his girlfriend and her son, Adam Farrar, with whom DiCaprio developed a clos \n",
      "\n",
      "6] == Early life and family ==\n",
      "Tobias Vincent Maguire was born on June 27, 1975, in Santa Monica, California, to Wendy Brown and Vincent Maguire. His parents (who are both of Scottish ancestry) married shortly after his birth but separated when he was two years old, and Maguire spent much of his childhood living with various family members. \n",
      "\n",
      "7] immigrant living in Germany. DiCaprio was raised Catholic. Sources have falsely claimed his maternal grandmother was born in Odesa, Ukraine; there is no evidence that DiCaprio has any relatives of Ukrainian birth or heritage. \n",
      "\n",
      "8] == Career == \n",
      "\n",
      "9] == Career ==\n",
      "\n",
      "\n",
      "=== 1989–1995: Early career === \n",
      "\n",
      "10] Belfort was born in 1962 in the Bronx, a borough of New York City, to Jewish parents, Maxwell \"Max\" Belfort and Leah (née Markowitz). They were both accountants. His paternal grandfather, Jack Belfort (1904-1970), was an immigrant from Russia, while his grandmother was a Second Generation American born to Lithuanian parents in New Jersey. Belfort was raised in Bayside, Queens. Between completing high school and starting college, Belfort and his close childhood friend Elliot Loewenstern earned $20,000 \n",
      "\n"
     ]
    }
   ],
   "source": [
    "get_top_passages(\"Where was Leo born?\")"
   ]
  },
  {
   "cell_type": "code",
   "execution_count": 35,
   "metadata": {},
   "outputs": [],
   "source": [
    "class GenerateAnswer(dspy.Signature):\n",
    "    \"\"\"Answer questions with short factoid answers.\"\"\"\n",
    "\n",
    "    context = dspy.InputField(desc=\"may contain relevant facts\")\n",
    "    question = dspy.InputField()\n",
    "    answer = dspy.OutputField()"
   ]
  },
  {
   "cell_type": "code",
   "execution_count": 30,
   "metadata": {},
   "outputs": [],
   "source": [
    "class GenerateSearchQuery(dspy.Signature):\n",
    "    \"\"\"Write a simple search query that will help answer a complex question.\"\"\"\n",
    "\n",
    "    context = dspy.InputField(desc=\"may contain relevant facts\")\n",
    "    question = dspy.InputField()\n",
    "    query = dspy.OutputField()"
   ]
  },
  {
   "cell_type": "code",
   "execution_count": 31,
   "metadata": {},
   "outputs": [],
   "source": [
    "from dsp.utils import deduplicate\n",
    "\n",
    "class SimplifiedBaleen(dspy.Module):\n",
    "    def __init__(self, passages_per_hop=3, max_hops=2):\n",
    "        super().__init__()\n",
    "\n",
    "        self.generate_query = [dspy.ChainOfThought(GenerateSearchQuery) for _ in range(max_hops)]\n",
    "        self.retrieve = dspy.Retrieve(k=passages_per_hop)\n",
    "        self.generate_answer = dspy.ChainOfThought(GenerateAnswer)\n",
    "        self.max_hops = max_hops\n",
    "\n",
    "    def forward(self, question):\n",
    "        context = []\n",
    "\n",
    "        for hop in range(self.max_hops):\n",
    "            query = self.generate_query[hop](context=context, question=question).query\n",
    "            passages = self.retrieve(query).passages\n",
    "            context = deduplicate(context + passages)\n",
    "\n",
    "        pred = self.generate_answer(context=context, question=question)\n",
    "        return dspy.Prediction(context=context, answer=pred.answer)"
   ]
  },
  {
   "cell_type": "code",
   "execution_count": 39,
   "metadata": {},
   "outputs": [
    {
     "name": "stdout",
     "output_type": "stream",
     "text": [
      "Question: Give me all the co-actors of Leonardo Di Caprio in the movie in which one of his co-stars was Robert De Niro?\n",
      "Predicted Answer: Jesse Plemons, Tantoo Cardinal, John Lithgow, and Brendan Fraser.\n",
      "Retrieved Contexts (truncated): ['Leonardo DiCaprio, Robert De Niro, and Lily Gladstone lead an ensemble cast, also including Jesse Plemons, Tantoo Cardinal, John Lithgow, and Brendan Fraser. It is the sixth feature film collaboration...', '== Film ==\\n\\n\\n=== As actor ===\\n\\n\\n=== As producer ===\\n\\n\\n== Television ==\\n\\n\\n== Notes ==\\n\\n\\n== See also ==\\nList of awards and nominations received by Leonardo DiCaprio\\n\\n\\n== References ==\\n\\n\\n== External link...', \"The duo's films have been nominated for thirty-one Academy Awards, winning nine. In 2013, the duo was awarded National Board of Review Spotlight award for career collaboration. Scorsese's work with Di...\", '== References ==\\n\\n\\n== External links ==\\nGeorge DiCaprio at IMDb...']\n"
     ]
    }
   ],
   "source": [
    "# Ask any question you like to this simple RAG program.\n",
    "my_question = \"Give me all the co-actors of Leonardo Di Caprio in the movie in which one of his co-stars was Robert De Niro?\"\n",
    "\n",
    "# Get the prediction. This contains `pred.context` and `pred.answer`.\n",
    "uncompiled_baleen = SimplifiedBaleen()  # uncompiled (i.e., zero-shot) program\n",
    "pred = uncompiled_baleen(my_question)\n",
    "\n",
    "# Print the contexts and the answer.\n",
    "print(f\"Question: {my_question}\")\n",
    "print(f\"Predicted Answer: {pred.answer}\")\n",
    "print(f\"Retrieved Contexts (truncated): {[c[:200] + '...' for c in pred.context]}\")"
   ]
  },
  {
   "cell_type": "code",
   "execution_count": 38,
   "metadata": {},
   "outputs": [
    {
     "name": "stdout",
     "output_type": "stream",
     "text": [
      "\n",
      "\n",
      "\n",
      "Write a simple search query that will help answer a complex question.\n",
      "\n",
      "---\n",
      "\n",
      "Follow the following format.\n",
      "\n",
      "Context: may contain relevant facts\n",
      "\n",
      "Question: ${question}\n",
      "\n",
      "Reasoning: Let's think step by step in order to ${produce the query}. We ...\n",
      "\n",
      "Query: ${query}\n",
      "\n",
      "---\n",
      "\n",
      "Context: N/A\n",
      "\n",
      "Question: Give me all the co-stars of Leonardo Di Caprio in the movie in which one of his co-stars was Robert De Niro?\n",
      "\n",
      "Reasoning: Let's think step by step in order to\u001b[32m Here is a simple search query that can help answer this complex question:\n",
      "\n",
      "---\n",
      "\n",
      "Context: N/A\n",
      "\n",
      "Question: Give me all the co-stars of Leonardo DiCaprio in the movie in which one of his co-stars was Robert De Niro?\n",
      "\n",
      "Reasoning: Let's think step by step in order to produce the query. We need to find a movie where both Leonardo DiCaprio and Robert De Niro appeared, then extract their co-stars from that specific film.\n",
      "\n",
      "Query: (Leonardo DiCaprio) AND (Robert De Niro) AND (\"co-star\" OR \"cast list\") -site:imdb.com\n",
      "\n",
      "This query uses the following search operators:\n",
      "\n",
      "* `(Leonardo DiCaprio)` and `(Robert De Niro)` are exact phrase searches to ensure we're searching for both actors' names.\n",
      "* `AND` connects these two phrases, requiring them to appear together in a single result.\n",
      "* `\"co-star\" OR \"cast list\"` is a quoted search that looks for either the words \"co-star\" or \"cast list\" (or variations) within the results. This helps us find pages with lists of co-stars from specific movies.\n",
      "* `-site:imdb.com` excludes IMDb's website from our search results, as we're looking for information not already available on their site.\n",
      "\n",
      "By combining these operators and phrases, this query should return a list of movie titles where both Leonardo DiCaprio and Robert De Niro appeared together, along with the names of their co-stars in those films.\u001b[0m\n",
      "\n",
      "\n",
      "\n",
      "\n",
      "\n",
      "Write a simple search query that will help answer a complex question.\n",
      "\n",
      "---\n",
      "\n",
      "Follow the following format.\n",
      "\n",
      "Context: may contain relevant facts\n",
      "\n",
      "Question: ${question}\n",
      "\n",
      "Reasoning: Let's think step by step in order to ${produce the query}. We ...\n",
      "\n",
      "Query: ${query}\n",
      "\n",
      "---\n",
      "\n",
      "Context:\n",
      "[1] «Leonardo DiCaprio, Robert De Niro, and Lily Gladstone lead an ensemble cast, also including Jesse Plemons, Tantoo Cardinal, John Lithgow, and Brendan Fraser. It is the sixth feature film collaboration between Scorsese and DiCaprio, the tenth between Scorsese and De Niro, and the first between Scorsese and both actors overall (they previously all collaborated on the 2015 short film The Audition), and the eleventh and final between Scorsese and composer Robbie Robertson, who died two months prior to the»\n",
      "[2] «== Film ==\n",
      "\n",
      "\n",
      "=== As actor ===\n",
      "\n",
      "\n",
      "=== As producer ===\n",
      "\n",
      "\n",
      "== Television ==\n",
      "\n",
      "\n",
      "== Notes ==\n",
      "\n",
      "\n",
      "== See also ==\n",
      "List of awards and nominations received by Leonardo DiCaprio\n",
      "\n",
      "\n",
      "== References ==\n",
      "\n",
      "\n",
      "== External links ==\n",
      "Leonardo DiCaprio filmography at IMDb\n",
      "Leonardo DiCaprio at the TCM Movie Database»\n",
      "[3] «The duo's films have been nominated for thirty-one Academy Awards, winning nine. In 2013, the duo was awarded National Board of Review Spotlight award for career collaboration. Scorsese's work with DiCaprio is considered to be as vital as his work with Robert De Niro.»\n",
      "\n",
      "Question: Give me all the co-stars of Leonardo Di Caprio in the movie in which one of his co-stars was Robert De Niro?\n",
      "\n",
      "Reasoning: Let's think step by step in order to\u001b[32m ---\n",
      "\n",
      "Context:\n",
      "\n",
      "[1] «Leonardo DiCaprio, Robert De Niro, and Lily Gladstone lead an ensemble cast...»\n",
      "\n",
      "Question: Give me all the co-stars of Leonardo Di Caprio in the movie in which one of his co-stars was Robert De Niro?\n",
      "\n",
      "Reasoning: Let's think step by step to produce a query. We know that we need to find information about movies where both Leonardo DiCaprio and Robert De Niro have appeared together as actors.\n",
      "\n",
      "Query: (Leonardo DiCaprio AND Robert De Niro) site:movies\n",
      "\n",
      "This search query uses the following techniques:\n",
      "\n",
      "* The parentheses around the names ensure that they are searched for in combination, rather than separately.\n",
      "* The \"AND\" operator is used to require both names to appear in the same movie.\n",
      "* The \"site:\" operator limits the search results to web pages with a URL containing \"movies\", which should help us focus on relevant information about movies.\n",
      "\n",
      "By using this query, we can find articles or websites that list the co-stars of Leonardo DiCaprio in movies where he has appeared alongside Robert De Niro.\u001b[0m\n",
      "\n",
      "\n",
      "\n",
      "\n",
      "\n",
      "Answer questions with short factoid answers.\n",
      "\n",
      "---\n",
      "\n",
      "Follow the following format.\n",
      "\n",
      "Context: may contain relevant facts\n",
      "\n",
      "Question: ${question}\n",
      "\n",
      "Reasoning: Let's think step by step in order to ${produce the answer}. We ...\n",
      "\n",
      "Answer: ${answer}\n",
      "\n",
      "---\n",
      "\n",
      "Context:\n",
      "[1] «Leonardo DiCaprio, Robert De Niro, and Lily Gladstone lead an ensemble cast, also including Jesse Plemons, Tantoo Cardinal, John Lithgow, and Brendan Fraser. It is the sixth feature film collaboration between Scorsese and DiCaprio, the tenth between Scorsese and De Niro, and the first between Scorsese and both actors overall (they previously all collaborated on the 2015 short film The Audition), and the eleventh and final between Scorsese and composer Robbie Robertson, who died two months prior to the»\n",
      "[2] «== Film ==\n",
      "\n",
      "\n",
      "=== As actor ===\n",
      "\n",
      "\n",
      "=== As producer ===\n",
      "\n",
      "\n",
      "== Television ==\n",
      "\n",
      "\n",
      "== Notes ==\n",
      "\n",
      "\n",
      "== See also ==\n",
      "List of awards and nominations received by Leonardo DiCaprio\n",
      "\n",
      "\n",
      "== References ==\n",
      "\n",
      "\n",
      "== External links ==\n",
      "Leonardo DiCaprio filmography at IMDb\n",
      "Leonardo DiCaprio at the TCM Movie Database»\n",
      "[3] «The duo's films have been nominated for thirty-one Academy Awards, winning nine. In 2013, the duo was awarded National Board of Review Spotlight award for career collaboration. Scorsese's work with DiCaprio is considered to be as vital as his work with Robert De Niro.»\n",
      "[4] «== References ==\n",
      "\n",
      "\n",
      "== External links ==\n",
      "George DiCaprio at IMDb»\n",
      "\n",
      "Question: Give me all the co-stars of Leonardo Di Caprio in the movie in which one of his co-stars was Robert De Niro?\n",
      "\n",
      "Reasoning: Let's think step by step in order to\u001b[32m ---\n",
      "\n",
      "Context:\n",
      "\n",
      "[1] «Leonardo DiCaprio, Robert De Niro, and Lily Gladstone lead an ensemble cast...»\n",
      "\n",
      "Question: Give me all the co-stars of Leonardo Di Caprio in the movie in which one of his co-stars was Robert De Niro?\n",
      "\n",
      "Reasoning: Let's think step by step to find out who else starred alongside Leonardo DiCaprio and Robert De Niro.\n",
      "\n",
      "Answer: According to [1], the other co-stars were Jesse Plemons, Tantoo Cardinal, John Lithgow, and Brendan Fraser.\u001b[0m\n",
      "\n",
      "\n",
      "\n"
     ]
    },
    {
     "data": {
      "text/plain": [
       "'\\n\\n\\nWrite a simple search query that will help answer a complex question.\\n\\n---\\n\\nFollow the following format.\\n\\nContext: may contain relevant facts\\n\\nQuestion: ${question}\\n\\nReasoning: Let\\'s think step by step in order to ${produce the query}. We ...\\n\\nQuery: ${query}\\n\\n---\\n\\nContext: N/A\\n\\nQuestion: Give me all the co-stars of Leonardo Di Caprio in the movie in which one of his co-stars was Robert De Niro?\\n\\nReasoning: Let\\'s think step by step in order to\\x1b[32m Here is a simple search query that can help answer this complex question:\\n\\n---\\n\\nContext: N/A\\n\\nQuestion: Give me all the co-stars of Leonardo DiCaprio in the movie in which one of his co-stars was Robert De Niro?\\n\\nReasoning: Let\\'s think step by step in order to produce the query. We need to find a movie where both Leonardo DiCaprio and Robert De Niro appeared, then extract their co-stars from that specific film.\\n\\nQuery: (Leonardo DiCaprio) AND (Robert De Niro) AND (\"co-star\" OR \"cast list\") -site:imdb.com\\n\\nThis query uses the following search operators:\\n\\n* `(Leonardo DiCaprio)` and `(Robert De Niro)` are exact phrase searches to ensure we\\'re searching for both actors\\' names.\\n* `AND` connects these two phrases, requiring them to appear together in a single result.\\n* `\"co-star\" OR \"cast list\"` is a quoted search that looks for either the words \"co-star\" or \"cast list\" (or variations) within the results. This helps us find pages with lists of co-stars from specific movies.\\n* `-site:imdb.com` excludes IMDb\\'s website from our search results, as we\\'re looking for information not already available on their site.\\n\\nBy combining these operators and phrases, this query should return a list of movie titles where both Leonardo DiCaprio and Robert De Niro appeared together, along with the names of their co-stars in those films.\\x1b[0m\\n\\n\\n\\n\\n\\nWrite a simple search query that will help answer a complex question.\\n\\n---\\n\\nFollow the following format.\\n\\nContext: may contain relevant facts\\n\\nQuestion: ${question}\\n\\nReasoning: Let\\'s think step by step in order to ${produce the query}. We ...\\n\\nQuery: ${query}\\n\\n---\\n\\nContext:\\n[1] «Leonardo DiCaprio, Robert De Niro, and Lily Gladstone lead an ensemble cast, also including Jesse Plemons, Tantoo Cardinal, John Lithgow, and Brendan Fraser. It is the sixth feature film collaboration between Scorsese and DiCaprio, the tenth between Scorsese and De Niro, and the first between Scorsese and both actors overall (they previously all collaborated on the 2015 short film The Audition), and the eleventh and final between Scorsese and composer Robbie Robertson, who died two months prior to the»\\n[2] «== Film ==\\n\\n\\n=== As actor ===\\n\\n\\n=== As producer ===\\n\\n\\n== Television ==\\n\\n\\n== Notes ==\\n\\n\\n== See also ==\\nList of awards and nominations received by Leonardo DiCaprio\\n\\n\\n== References ==\\n\\n\\n== External links ==\\nLeonardo DiCaprio filmography at IMDb\\nLeonardo DiCaprio at the TCM Movie Database»\\n[3] «The duo\\'s films have been nominated for thirty-one Academy Awards, winning nine. In 2013, the duo was awarded National Board of Review Spotlight award for career collaboration. Scorsese\\'s work with DiCaprio is considered to be as vital as his work with Robert De Niro.»\\n\\nQuestion: Give me all the co-stars of Leonardo Di Caprio in the movie in which one of his co-stars was Robert De Niro?\\n\\nReasoning: Let\\'s think step by step in order to\\x1b[32m ---\\n\\nContext:\\n\\n[1] «Leonardo DiCaprio, Robert De Niro, and Lily Gladstone lead an ensemble cast...»\\n\\nQuestion: Give me all the co-stars of Leonardo Di Caprio in the movie in which one of his co-stars was Robert De Niro?\\n\\nReasoning: Let\\'s think step by step to produce a query. We know that we need to find information about movies where both Leonardo DiCaprio and Robert De Niro have appeared together as actors.\\n\\nQuery: (Leonardo DiCaprio AND Robert De Niro) site:movies\\n\\nThis search query uses the following techniques:\\n\\n* The parentheses around the names ensure that they are searched for in combination, rather than separately.\\n* The \"AND\" operator is used to require both names to appear in the same movie.\\n* The \"site:\" operator limits the search results to web pages with a URL containing \"movies\", which should help us focus on relevant information about movies.\\n\\nBy using this query, we can find articles or websites that list the co-stars of Leonardo DiCaprio in movies where he has appeared alongside Robert De Niro.\\x1b[0m\\n\\n\\n\\n\\n\\nAnswer questions with short factoid answers.\\n\\n---\\n\\nFollow the following format.\\n\\nContext: may contain relevant facts\\n\\nQuestion: ${question}\\n\\nReasoning: Let\\'s think step by step in order to ${produce the answer}. We ...\\n\\nAnswer: ${answer}\\n\\n---\\n\\nContext:\\n[1] «Leonardo DiCaprio, Robert De Niro, and Lily Gladstone lead an ensemble cast, also including Jesse Plemons, Tantoo Cardinal, John Lithgow, and Brendan Fraser. It is the sixth feature film collaboration between Scorsese and DiCaprio, the tenth between Scorsese and De Niro, and the first between Scorsese and both actors overall (they previously all collaborated on the 2015 short film The Audition), and the eleventh and final between Scorsese and composer Robbie Robertson, who died two months prior to the»\\n[2] «== Film ==\\n\\n\\n=== As actor ===\\n\\n\\n=== As producer ===\\n\\n\\n== Television ==\\n\\n\\n== Notes ==\\n\\n\\n== See also ==\\nList of awards and nominations received by Leonardo DiCaprio\\n\\n\\n== References ==\\n\\n\\n== External links ==\\nLeonardo DiCaprio filmography at IMDb\\nLeonardo DiCaprio at the TCM Movie Database»\\n[3] «The duo\\'s films have been nominated for thirty-one Academy Awards, winning nine. In 2013, the duo was awarded National Board of Review Spotlight award for career collaboration. Scorsese\\'s work with DiCaprio is considered to be as vital as his work with Robert De Niro.»\\n[4] «== References ==\\n\\n\\n== External links ==\\nGeorge DiCaprio at IMDb»\\n\\nQuestion: Give me all the co-stars of Leonardo Di Caprio in the movie in which one of his co-stars was Robert De Niro?\\n\\nReasoning: Let\\'s think step by step in order to\\x1b[32m ---\\n\\nContext:\\n\\n[1] «Leonardo DiCaprio, Robert De Niro, and Lily Gladstone lead an ensemble cast...»\\n\\nQuestion: Give me all the co-stars of Leonardo Di Caprio in the movie in which one of his co-stars was Robert De Niro?\\n\\nReasoning: Let\\'s think step by step to find out who else starred alongside Leonardo DiCaprio and Robert De Niro.\\n\\nAnswer: According to [1], the other co-stars were Jesse Plemons, Tantoo Cardinal, John Lithgow, and Brendan Fraser.\\x1b[0m\\n\\n\\n'"
      ]
     },
     "execution_count": 38,
     "metadata": {},
     "output_type": "execute_result"
    }
   ],
   "source": [
    "ollama_model.inspect_history(n=3)"
   ]
  }
 ],
 "metadata": {
  "kernelspec": {
   "display_name": "base",
   "language": "python",
   "name": "python3"
  },
  "language_info": {
   "codemirror_mode": {
    "name": "ipython",
    "version": 3
   },
   "file_extension": ".py",
   "mimetype": "text/x-python",
   "name": "python",
   "nbconvert_exporter": "python",
   "pygments_lexer": "ipython3",
   "version": "3.10.11"
  }
 },
 "nbformat": 4,
 "nbformat_minor": 2
}
